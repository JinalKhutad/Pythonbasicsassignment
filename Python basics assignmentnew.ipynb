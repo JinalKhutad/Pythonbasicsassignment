{
 "cells": [
  {
   "cell_type": "code",
   "execution_count": 5,
   "id": "44346f31-6fb6-475d-b8b0-54ba44d34b7b",
   "metadata": {},
   "outputs": [
    {
     "name": "stdout",
     "output_type": "stream",
     "text": [
      "greater\n"
     ]
    }
   ],
   "source": [
    "#Practical questions\n",
    "#ans 8\n",
    "if 3 > 2:\n",
    "    print(\"greater\")"
   ]
  },
  {
   "cell_type": "code",
   "execution_count": 6,
   "id": "b37e3c83-9b90-43f1-b9e4-40e5b29fbed8",
   "metadata": {},
   "outputs": [
    {
     "data": {
      "text/plain": [
       "'Hello World!'"
      ]
     },
     "execution_count": 6,
     "metadata": {},
     "output_type": "execute_result"
    }
   ],
   "source": [
    "#ans1\n",
    "a = (\"Hello World!\")\n",
    "a"
   ]
  },
  {
   "cell_type": "code",
   "execution_count": null,
   "id": "b7f8b72e-f2e7-47cb-aec9-858db79902ab",
   "metadata": {},
   "outputs": [],
   "source": [
    "#ans 2\n",
    "name = \"Jinal Khutad\"\n",
    "age = 26"
   ]
  },
  {
   "cell_type": "code",
   "execution_count": null,
   "id": "27be6866-3408-45ba-b710-97db901b70b8",
   "metadata": {},
   "outputs": [],
   "source": []
  },
  {
   "cell_type": "code",
   "execution_count": null,
   "id": "e8a896c9-027f-40c3-af4d-684a12e73e0f",
   "metadata": {},
   "outputs": [],
   "source": []
  },
  {
   "cell_type": "code",
   "execution_count": 10,
   "id": "0e0f74f8-4793-4a7f-8d0a-12daf055b91c",
   "metadata": {},
   "outputs": [
    {
     "name": "stdout",
     "output_type": "stream",
     "text": [
      "\n",
      "Here is a list of the Python keywords.  Enter any keyword to get more help.\n",
      "\n",
      "False               class               from                or\n",
      "None                continue            global              pass\n",
      "True                def                 if                  raise\n",
      "and                 del                 import              return\n",
      "as                  elif                in                  try\n",
      "assert              else                is                  while\n",
      "async               except              lambda              with\n",
      "await               finally             nonlocal            yield\n",
      "break               for                 not                 \n",
      "\n"
     ]
    }
   ],
   "source": [
    "#ans 3\n",
    "help (\"keywords\")"
   ]
  },
  {
   "cell_type": "code",
   "execution_count": 18,
   "id": "77491bc3-f6d9-47a4-8c4e-ac27743b99f9",
   "metadata": {},
   "outputs": [
    {
     "name": "stdout",
     "output_type": "stream",
     "text": [
      "big number\n"
     ]
    }
   ],
   "source": [
    "#ans 4\n",
    "if 4 > 2:\n",
    "    print(\"big number\")"
   ]
  },
  {
   "cell_type": "code",
   "execution_count": 15,
   "id": "5008dfb1-9bb0-47d4-b2e9-828f5a027fef",
   "metadata": {},
   "outputs": [
    {
     "data": {
      "text/plain": [
       "[100, 2, 4, 'Jinal']"
      ]
     },
     "execution_count": 15,
     "metadata": {},
     "output_type": "execute_result"
    }
   ],
   "source": [
    "#ans 5 \n",
    "list_cont = [100, 2, 4, \"Jinal\"]\n",
    "list_cont"
   ]
  },
  {
   "cell_type": "code",
   "execution_count": 16,
   "id": "8dfe6d04-2486-4b8c-a6d7-3f7a02c5eee1",
   "metadata": {},
   "outputs": [
    {
     "data": {
      "text/plain": [
       "2"
      ]
     },
     "execution_count": 16,
     "metadata": {},
     "output_type": "execute_result"
    }
   ],
   "source": [
    "list_cont[1]"
   ]
  },
  {
   "cell_type": "code",
   "execution_count": 17,
   "id": "451955cb-55dd-4fc9-8964-9b6a772c29f2",
   "metadata": {},
   "outputs": [],
   "source": [
    "list_cont[3] = \"khutad\""
   ]
  },
  {
   "cell_type": "code",
   "execution_count": 18,
   "id": "e5882b93-1a18-4091-9451-10d92089d97a",
   "metadata": {},
   "outputs": [
    {
     "data": {
      "text/plain": [
       "[100, 2, 4, 'khutad']"
      ]
     },
     "execution_count": 18,
     "metadata": {},
     "output_type": "execute_result"
    }
   ],
   "source": [
    "list_cont"
   ]
  },
  {
   "cell_type": "code",
   "execution_count": 19,
   "id": "8537b707-7db7-4181-9346-7ba9c7d7c6aa",
   "metadata": {},
   "outputs": [
    {
     "data": {
      "text/plain": [
       "'greatday'"
      ]
     },
     "execution_count": 19,
     "metadata": {},
     "output_type": "execute_result"
    }
   ],
   "source": [
    "form = \"greatday\"\n",
    "form"
   ]
  },
  {
   "cell_type": "code",
   "execution_count": 20,
   "id": "08755ee8-9e71-4fc6-a736-edd56729abf7",
   "metadata": {},
   "outputs": [
    {
     "ename": "TypeError",
     "evalue": "'str' object does not support item assignment",
     "output_type": "error",
     "traceback": [
      "\u001b[1;31m---------------------------------------------------------------------------\u001b[0m",
      "\u001b[1;31mTypeError\u001b[0m                                 Traceback (most recent call last)",
      "Cell \u001b[1;32mIn[20], line 1\u001b[0m\n\u001b[1;32m----> 1\u001b[0m form[\u001b[38;5;241m0\u001b[39m] \u001b[38;5;241m=\u001b[39m \u001b[38;5;124m\"\u001b[39m\u001b[38;5;124mo\u001b[39m\u001b[38;5;124m\"\u001b[39m\n",
      "\u001b[1;31mTypeError\u001b[0m: 'str' object does not support item assignment"
     ]
    }
   ],
   "source": [
    "form[0] = \"o\""
   ]
  },
  {
   "cell_type": "code",
   "execution_count": null,
   "id": "ec42e7f9-5a85-407f-b9c5-d15d73f17134",
   "metadata": {},
   "outputs": [],
   "source": [
    "# as per above list can be mutable but a string and tuple cannot so same item can be asigned accordingly to list"
   ]
  },
  {
   "cell_type": "code",
   "execution_count": 22,
   "id": "43c40b29-8c03-4d5a-899c-0337d1154884",
   "metadata": {},
   "outputs": [
    {
     "data": {
      "text/plain": [
       "[25, 48, 8, 'address', 'amount']"
      ]
     },
     "execution_count": 22,
     "metadata": {},
     "output_type": "execute_result"
    }
   ],
   "source": [
    "#ans 6\n",
    "detail = [25, 48, 8, \"address\", \"amount\"]\n",
    "detail"
   ]
  },
  {
   "cell_type": "code",
   "execution_count": 23,
   "id": "f4fa4c84-347b-4ba1-a6f2-71a08e4e622e",
   "metadata": {},
   "outputs": [
    {
     "data": {
      "text/plain": [
       "[25, 48, 8, 'address', 'space']"
      ]
     },
     "execution_count": 23,
     "metadata": {},
     "output_type": "execute_result"
    }
   ],
   "source": [
    "detail[4] = \"space\"\n",
    "detail"
   ]
  },
  {
   "cell_type": "code",
   "execution_count": 24,
   "id": "e11ff005-d7d4-4337-b2a5-8146aa54cb98",
   "metadata": {},
   "outputs": [
    {
     "data": {
      "text/plain": [
       "'goodvibes'"
      ]
     },
     "execution_count": 24,
     "metadata": {},
     "output_type": "execute_result"
    }
   ],
   "source": [
    "positive = \"goodvibes\"\n",
    "positive"
   ]
  },
  {
   "cell_type": "code",
   "execution_count": 25,
   "id": "1483f9b2-969c-4d30-bdc7-a9698af1e82e",
   "metadata": {},
   "outputs": [
    {
     "ename": "TypeError",
     "evalue": "'str' object does not support item assignment",
     "output_type": "error",
     "traceback": [
      "\u001b[1;31m---------------------------------------------------------------------------\u001b[0m",
      "\u001b[1;31mTypeError\u001b[0m                                 Traceback (most recent call last)",
      "Cell \u001b[1;32mIn[25], line 1\u001b[0m\n\u001b[1;32m----> 1\u001b[0m positive[\u001b[38;5;241m1\u001b[39m] \u001b[38;5;241m=\u001b[39m \u001b[38;5;124m\"\u001b[39m\u001b[38;5;124ma\u001b[39m\u001b[38;5;124m\"\u001b[39m\n",
      "\u001b[1;31mTypeError\u001b[0m: 'str' object does not support item assignment"
     ]
    }
   ],
   "source": [
    "positive[1] = \"a\""
   ]
  },
  {
   "cell_type": "code",
   "execution_count": 26,
   "id": "6b6d3014-b146-45c7-9cf1-47c2cc4c811f",
   "metadata": {},
   "outputs": [
    {
     "data": {
      "text/plain": [
       "['hardwork', 100, 'dedication', 200]"
      ]
     },
     "execution_count": 26,
     "metadata": {},
     "output_type": "execute_result"
    }
   ],
   "source": [
    "#ans 7\n",
    "job = [\"hardwork\", 100, \"dedication\", 200]\n",
    "job"
   ]
  },
  {
   "cell_type": "code",
   "execution_count": 27,
   "id": "f080f108-c104-41b6-abd2-49860eec1df2",
   "metadata": {},
   "outputs": [
    {
     "data": {
      "text/plain": [
       "['hardwork', 100, 'dedication', 'outcome']"
      ]
     },
     "execution_count": 27,
     "metadata": {},
     "output_type": "execute_result"
    }
   ],
   "source": [
    "job[3] = \"outcome\"\n",
    "job"
   ]
  },
  {
   "cell_type": "code",
   "execution_count": 28,
   "id": "647d3d68-14f7-473d-8bac-f67a2fac287b",
   "metadata": {},
   "outputs": [
    {
     "data": {
      "text/plain": [
       "'earth'"
      ]
     },
     "execution_count": 28,
     "metadata": {},
     "output_type": "execute_result"
    }
   ],
   "source": [
    "world = \"earth\"\n",
    "world"
   ]
  },
  {
   "cell_type": "code",
   "execution_count": 29,
   "id": "2f941711-7e43-4c7e-8a68-a936c2db665a",
   "metadata": {},
   "outputs": [
    {
     "ename": "TypeError",
     "evalue": "'str' object does not support item assignment",
     "output_type": "error",
     "traceback": [
      "\u001b[1;31m---------------------------------------------------------------------------\u001b[0m",
      "\u001b[1;31mTypeError\u001b[0m                                 Traceback (most recent call last)",
      "Cell \u001b[1;32mIn[29], line 1\u001b[0m\n\u001b[1;32m----> 1\u001b[0m world[\u001b[38;5;241m4\u001b[39m] \u001b[38;5;241m=\u001b[39m \u001b[38;5;124m\"\u001b[39m\u001b[38;5;124mly\u001b[39m\u001b[38;5;124m\"\u001b[39m\n",
      "\u001b[1;31mTypeError\u001b[0m: 'str' object does not support item assignment"
     ]
    }
   ],
   "source": [
    "world[4] = \"ly\""
   ]
  },
  {
   "cell_type": "code",
   "execution_count": null,
   "id": "7f0a116e-6c59-4f34-8da4-dac2190772c4",
   "metadata": {},
   "outputs": [],
   "source": [
    "#in both above cases the mutable objects can be changed whereas the others can't"
   ]
  },
  {
   "cell_type": "code",
   "execution_count": 9,
   "id": "c8d3ca6e-579a-4ee1-b863-f91dba45da17",
   "metadata": {},
   "outputs": [],
   "source": [
    "#ans 9\n",
    "place = (\"2\")"
   ]
  },
  {
   "cell_type": "code",
   "execution_count": 15,
   "id": "b6132b86-4254-42eb-8ea5-87c4fb63956e",
   "metadata": {},
   "outputs": [
    {
     "data": {
      "text/plain": [
       "'2'"
      ]
     },
     "execution_count": 15,
     "metadata": {},
     "output_type": "execute_result"
    }
   ],
   "source": [
    "place"
   ]
  },
  {
   "cell_type": "code",
   "execution_count": 11,
   "id": "ffb2d65c-2ab1-4009-a032-f214a43674d6",
   "metadata": {},
   "outputs": [
    {
     "data": {
      "text/plain": [
       "str"
      ]
     },
     "execution_count": 11,
     "metadata": {},
     "output_type": "execute_result"
    }
   ],
   "source": [
    "type(place)"
   ]
  },
  {
   "cell_type": "code",
   "execution_count": 12,
   "id": "250f0f54-f9b2-4e0e-ac14-f788fabed9c6",
   "metadata": {},
   "outputs": [
    {
     "data": {
      "text/plain": [
       "2"
      ]
     },
     "execution_count": 12,
     "metadata": {},
     "output_type": "execute_result"
    }
   ],
   "source": [
    "int(place)"
   ]
  },
  {
   "cell_type": "code",
   "execution_count": 16,
   "id": "eb249697-7760-4114-b04c-97d8f72c8084",
   "metadata": {},
   "outputs": [
    {
     "data": {
      "text/plain": [
       "2.0"
      ]
     },
     "execution_count": 16,
     "metadata": {},
     "output_type": "execute_result"
    }
   ],
   "source": [
    "float(place)"
   ]
  },
  {
   "cell_type": "code",
   "execution_count": 17,
   "id": "d6d2d3a2-9b8c-4b26-ae4f-e805bb329f63",
   "metadata": {},
   "outputs": [
    {
     "data": {
      "text/plain": [
       "True"
      ]
     },
     "execution_count": 17,
     "metadata": {},
     "output_type": "execute_result"
    }
   ],
   "source": [
    "bool(place)"
   ]
  },
  {
   "cell_type": "code",
   "execution_count": 19,
   "id": "aee3a199-f413-481b-af96-fdd9d6899f4c",
   "metadata": {},
   "outputs": [
    {
     "data": {
      "text/plain": [
       "float"
      ]
     },
     "execution_count": 19,
     "metadata": {},
     "output_type": "execute_result"
    }
   ],
   "source": [
    "#ans 10\n",
    "g = 4.1\n",
    "type(g)\n"
   ]
  },
  {
   "cell_type": "code",
   "execution_count": 20,
   "id": "5878386b-fb60-4c86-9b8c-1c1ce0c4e460",
   "metadata": {},
   "outputs": [
    {
     "data": {
      "text/plain": [
       "4"
      ]
     },
     "execution_count": 20,
     "metadata": {},
     "output_type": "execute_result"
    }
   ],
   "source": [
    "int(g)"
   ]
  },
  {
   "cell_type": "code",
   "execution_count": 21,
   "id": "c7fdd9ef-5a35-48c9-9ddd-2025a6e61531",
   "metadata": {},
   "outputs": [
    {
     "data": {
      "text/plain": [
       "'4.1'"
      ]
     },
     "execution_count": 21,
     "metadata": {},
     "output_type": "execute_result"
    }
   ],
   "source": [
    "str(g)"
   ]
  },
  {
   "cell_type": "code",
   "execution_count": 22,
   "id": "83ed3b22-4a19-4c45-9dbe-07bfb0cc9845",
   "metadata": {},
   "outputs": [
    {
     "data": {
      "text/plain": [
       "True"
      ]
     },
     "execution_count": 22,
     "metadata": {},
     "output_type": "execute_result"
    }
   ],
   "source": [
    "bool(g)"
   ]
  },
  {
   "cell_type": "code",
   "execution_count": 36,
   "id": "20f39c81-20d4-443b-94e8-073d158246da",
   "metadata": {},
   "outputs": [
    {
     "name": "stdout",
     "output_type": "stream",
     "text": [
      "Positive number\n"
     ]
    }
   ],
   "source": [
    "#ans 11\n",
    "num = 5\n",
    "if num > 0:\n",
    "    print(\"Positive number\")\n",
    "elif num == 0:\n",
    "    print(\"Zero\")\n",
    "else:\n",
    "    print(\"negative number\")"
   ]
  },
  {
   "cell_type": "code",
   "execution_count": 37,
   "id": "f6433e60-e799-4b3e-8f99-91862de27785",
   "metadata": {},
   "outputs": [
    {
     "name": "stdout",
     "output_type": "stream",
     "text": [
      "1 2 3 4 5 6 7 8 9 10 "
     ]
    }
   ],
   "source": [
    "#ans 12\n",
    "for n in range(1,11):\n",
    "    print(n, end=' ')"
   ]
  },
  {
   "cell_type": "code",
   "execution_count": 76,
   "id": "65576961-3ecd-433b-902a-e0b199626493",
   "metadata": {},
   "outputs": [
    {
     "name": "stdout",
     "output_type": "stream",
     "text": [
      "2\n",
      "4\n",
      "6\n",
      "8\n",
      "10\n",
      "12\n",
      "14\n",
      "16\n",
      "18\n",
      "20\n",
      "22\n",
      "24\n",
      "26\n",
      "28\n",
      "30\n",
      "32\n",
      "34\n",
      "36\n",
      "38\n",
      "40\n",
      "42\n",
      "44\n",
      "46\n",
      "48\n",
      "50\n"
     ]
    }
   ],
   "source": [
    "#ans 13\n",
    "for j in range(1,51):\n",
    "    if j%2 == 0:\n",
    "        print(j)"
   ]
  },
  {
   "cell_type": "code",
   "execution_count": null,
   "id": "4f30bdee-1b52-48e8-8dd6-03caeb271df8",
   "metadata": {},
   "outputs": [],
   "source": [
    "#Theory questions"
   ]
  },
  {
   "cell_type": "code",
   "execution_count": null,
   "id": "740fb01b-55b8-408e-82de-cb4f62cc8b01",
   "metadata": {},
   "outputs": [],
   "source": [
    "#ans 1\n",
    "#Python is a programming language designed to make the computer understand as well that is easy to understand and write, making it a popular choice among developers and programmers "
   ]
  },
  {
   "cell_type": "code",
   "execution_count": null,
   "id": "98a9139e-d105-483e-a875-2d1a3709b5b1",
   "metadata": {},
   "outputs": [],
   "source": [
    "#ans 2\n",
    "#it helps a code to be executed in python. It takes step by step flow untill all syntax are in line and make the computer understand it."
   ]
  },
  {
   "cell_type": "code",
   "execution_count": null,
   "id": "235ca0bb-6a57-417a-81bd-119f3a36bf2f",
   "metadata": {},
   "outputs": [],
   "source": [
    "#ans 3\n",
    "#Keywords are reserved words in Python that have special meanings and cannot be used as identifiers eg are else,if,print."
   ]
  },
  {
   "cell_type": "code",
   "execution_count": null,
   "id": "48d94577-f7bc-4f2d-97ff-08a1d4811acf",
   "metadata": {},
   "outputs": [],
   "source": [
    "#ans 4\n",
    "#no they cannot be used as variable names"
   ]
  },
  {
   "cell_type": "code",
   "execution_count": null,
   "id": "e36f23a8-6bf8-478e-bab5-5efd307d6f8f",
   "metadata": {},
   "outputs": [],
   "source": [
    "#ans 5\n",
    "#it states there are mutable objects which can we changed or modifiable and it affects how objects are stored and manipulated in memory"
   ]
  },
  {
   "cell_type": "code",
   "execution_count": null,
   "id": "d7366dfa-f903-431b-b6bc-195ce9b71f44",
   "metadata": {},
   "outputs": [],
   "source": [
    "#ans 6\n",
    "#data is stated to be constant in tuple due to which they are immutable whereas for lists they can be modifiable"
   ]
  },
  {
   "cell_type": "code",
   "execution_count": null,
   "id": "4d5febde-cfa7-4fe6-a575-ae49c16abecf",
   "metadata": {},
   "outputs": [],
   "source": [
    "#ans 7\n",
    "#The == operator helps us compare the equality of objects. The is operator helps us check whether different variables point towards a similar object in the memory."
   ]
  },
  {
   "cell_type": "code",
   "execution_count": null,
   "id": "e8fcb3cd-b1fd-4ed4-8a9b-28e3395beca8",
   "metadata": {},
   "outputs": [],
   "source": [
    "#ans 8\n",
    "#logical operators are used to combine multiple conditions together and evaluate them used for applying logic and get solutions"
   ]
  },
  {
   "cell_type": "code",
   "execution_count": null,
   "id": "b82a9726-dabc-45db-afcf-7dbf9daa50f0",
   "metadata": {},
   "outputs": [],
   "source": [
    "#ans 9\n",
    "#Type casting, also referred to as type conversion, is the process of changing one data type to another."
   ]
  },
  {
   "cell_type": "code",
   "execution_count": null,
   "id": "d9d58fa3-e47b-47d6-b976-5b4e62498b68",
   "metadata": {},
   "outputs": [],
   "source": [
    "#ans 10\n",
    "#Implicit type conversion is performed by a Python interpreter only manually. Explicit type conversion is performed by the user by explicitly using type conversion functions in the program code"
   ]
  },
  {
   "cell_type": "code",
   "execution_count": null,
   "id": "5f3ec33d-d3e8-46cf-a43c-4bfd85c5b23a",
   "metadata": {},
   "outputs": [],
   "source": [
    "#ans 11\n",
    "#Conditionals in Python are used to execute code based on the evaluation of one or more conditions."
   ]
  },
  {
   "cell_type": "code",
   "execution_count": null,
   "id": "daed9dd3-9d3d-4630-a4b9-3908aa1993da",
   "metadata": {},
   "outputs": [],
   "source": [
    "#ans 12\n",
    "#The “elif” keyword in Python, stands for “else if”. It can be used in conditional statements to check for multiple conditions. For example, if the first condition is false, it moves on to the next “elif” statement to check if that condition is true"
   ]
  },
  {
   "cell_type": "code",
   "execution_count": null,
   "id": "f2785b3f-b796-4417-84fd-958f41dadf84",
   "metadata": {},
   "outputs": [],
   "source": [
    "#ans 13\n",
    "#The major difference between for loop and while loop is that for loop is used when the number of iterations is known, whereas execution is done in a while loop until the statement in the program is proved wrong"
   ]
  },
  {
   "cell_type": "code",
   "execution_count": null,
   "id": "1c1b7b55-10b7-4f76-b848-2aa50e58a1ea",
   "metadata": {},
   "outputs": [],
   "source": [
    "#ans 14"
   ]
  },
  {
   "cell_type": "code",
   "execution_count": null,
   "id": "39598855-9a96-4787-81b8-c43fff114654",
   "metadata": {},
   "outputs": [],
   "source": []
  },
  {
   "cell_type": "code",
   "execution_count": null,
   "id": "52338d62-f9b2-4570-bacb-3e5b5f297312",
   "metadata": {},
   "outputs": [],
   "source": []
  },
  {
   "cell_type": "code",
   "execution_count": null,
   "id": "773d0d1e-b39e-45c5-82d6-e2c8771517e0",
   "metadata": {},
   "outputs": [],
   "source": []
  }
 ],
 "metadata": {
  "kernelspec": {
   "display_name": "Python 3 (ipykernel)",
   "language": "python",
   "name": "python3"
  },
  "language_info": {
   "codemirror_mode": {
    "name": "ipython",
    "version": 3
   },
   "file_extension": ".py",
   "mimetype": "text/x-python",
   "name": "python",
   "nbconvert_exporter": "python",
   "pygments_lexer": "ipython3",
   "version": "3.12.7"
  }
 },
 "nbformat": 4,
 "nbformat_minor": 5
}
